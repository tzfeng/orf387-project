{
 "cells": [
  {
   "cell_type": "code",
   "execution_count": 1,
   "metadata": {},
   "outputs": [
    {
     "name": "stdout",
     "output_type": "stream",
     "text": [
      "Requirement already satisfied: snap-stanford in /Users/timfeng/opt/anaconda3/lib/python3.7/site-packages (6.0.0)\r\n"
     ]
    }
   ],
   "source": [
    "import sys\n",
    "!{sys.executable} -m pip install snap-stanford"
   ]
  },
  {
   "cell_type": "code",
   "execution_count": 1,
   "metadata": {},
   "outputs": [],
   "source": [
    "import snap\n",
    "import pandas as pd\n",
    "import numpy as np\n",
    "import operator\n",
    "import statistics\n",
    "import chardet\n",
    "import matplotlib.pyplot as plt\n",
    "from matplotlib.pyplot import figure"
   ]
  },
  {
   "cell_type": "markdown",
   "metadata": {},
   "source": [
    "## Facebook (undirected)"
   ]
  },
  {
   "cell_type": "code",
   "execution_count": 76,
   "metadata": {},
   "outputs": [],
   "source": [
    "nodes = list(range(100,250))\n",
    "count = len(nodes)"
   ]
  },
  {
   "cell_type": "code",
   "execution_count": 77,
   "metadata": {},
   "outputs": [
    {
     "data": {
      "text/plain": [
       "400"
      ]
     },
     "execution_count": 77,
     "metadata": {},
     "output_type": "execute_result"
    }
   ],
   "source": [
    "fb = snap.LoadEdgeList(snap.TUNGraph, \"facebook_combined.txt\", 0, 1)\n",
    "sub_fb = fb.GetSubGraph(nodes)\n",
    "sub_fb.GetEdges()"
   ]
  },
  {
   "cell_type": "code",
   "execution_count": 78,
   "metadata": {},
   "outputs": [
    {
     "data": {
      "text/plain": [
       "150"
      ]
     },
     "execution_count": 78,
     "metadata": {},
     "output_type": "execute_result"
    }
   ],
   "source": [
    "sub_fb.GetNodes()"
   ]
  },
  {
   "cell_type": "markdown",
   "metadata": {},
   "source": [
    "### FB network data has been preprocessed. A subgraph of the network with 150 nodes and 400 edges will be analyzed."
   ]
  },
  {
   "cell_type": "code",
   "execution_count": 140,
   "metadata": {},
   "outputs": [],
   "source": [
    "labels_fb = {}\n",
    "for NI in sub_fb.Nodes():\n",
    "    labels_fb[NI.GetId()] = str(NI.GetId())\n",
    "sub_fb.DrawGViz(snap.gvlNeato, \"output_fb3.png\", \" \", labels_fb)"
   ]
  },
  {
   "cell_type": "markdown",
   "metadata": {},
   "source": [
    "![alt text](output_fb3.png)"
   ]
  },
  {
   "cell_type": "markdown",
   "metadata": {},
   "source": [
    "### Average distance and diameter"
   ]
  },
  {
   "cell_type": "code",
   "execution_count": 141,
   "metadata": {},
   "outputs": [],
   "source": [
    "result = sub_fb.GetBfsEffDiam(count, nodes, False)\n",
    "avg_dist = result[0]\n",
    "diameter = result[2]"
   ]
  },
  {
   "cell_type": "code",
   "execution_count": 142,
   "metadata": {},
   "outputs": [
    {
     "data": {
      "text/html": [
       "<div>\n",
       "<style scoped>\n",
       "    .dataframe tbody tr th:only-of-type {\n",
       "        vertical-align: middle;\n",
       "    }\n",
       "\n",
       "    .dataframe tbody tr th {\n",
       "        vertical-align: top;\n",
       "    }\n",
       "\n",
       "    .dataframe thead th {\n",
       "        text-align: right;\n",
       "    }\n",
       "</style>\n",
       "<table border=\"1\" class=\"dataframe\">\n",
       "  <thead>\n",
       "    <tr style=\"text-align: right;\">\n",
       "      <th></th>\n",
       "      <th>Avg Distance</th>\n",
       "      <th>Diameter</th>\n",
       "    </tr>\n",
       "  </thead>\n",
       "  <tbody>\n",
       "    <tr>\n",
       "      <th>0</th>\n",
       "      <td>4.512939</td>\n",
       "      <td>9</td>\n",
       "    </tr>\n",
       "  </tbody>\n",
       "</table>\n",
       "</div>"
      ],
      "text/plain": [
       "   Avg Distance  Diameter\n",
       "0      4.512939         9"
      ]
     },
     "execution_count": 142,
     "metadata": {},
     "output_type": "execute_result"
    }
   ],
   "source": [
    "dist = pd.DataFrame([[avg_dist, diameter]], columns=['Avg Distance', 'Diameter'])\n",
    "dist"
   ]
  },
  {
   "cell_type": "markdown",
   "metadata": {},
   "source": [
    "### Degree centrality"
   ]
  },
  {
   "cell_type": "code",
   "execution_count": 143,
   "metadata": {},
   "outputs": [],
   "source": [
    "dc = {}\n",
    "for NI in sub_fb.Nodes():\n",
    "    dc[NI.GetId()] = sub_fb.GetDegreeCentr(NI.GetId())"
   ]
  },
  {
   "cell_type": "code",
   "execution_count": 144,
   "metadata": {},
   "outputs": [
    {
     "data": {
      "text/plain": [
       "119"
      ]
     },
     "execution_count": 144,
     "metadata": {},
     "output_type": "execute_result"
    }
   ],
   "source": [
    "max_dc = max(dc.items(), key=operator.itemgetter(1))[0]\n",
    "max_dc"
   ]
  },
  {
   "cell_type": "code",
   "execution_count": 145,
   "metadata": {},
   "outputs": [
    {
     "data": {
      "text/plain": [
       "0.035794183445190156"
      ]
     },
     "execution_count": 145,
     "metadata": {},
     "output_type": "execute_result"
    }
   ],
   "source": [
    "avg_dc = statistics.mean(dc.values())\n",
    "avg_dc"
   ]
  },
  {
   "cell_type": "code",
   "execution_count": 146,
   "metadata": {},
   "outputs": [
    {
     "data": {
      "text/html": [
       "<div>\n",
       "<style scoped>\n",
       "    .dataframe tbody tr th:only-of-type {\n",
       "        vertical-align: middle;\n",
       "    }\n",
       "\n",
       "    .dataframe tbody tr th {\n",
       "        vertical-align: top;\n",
       "    }\n",
       "\n",
       "    .dataframe thead th {\n",
       "        text-align: right;\n",
       "    }\n",
       "</style>\n",
       "<table border=\"1\" class=\"dataframe\">\n",
       "  <thead>\n",
       "    <tr style=\"text-align: right;\">\n",
       "      <th></th>\n",
       "      <th>Node w/Max Centrality</th>\n",
       "      <th>Max Centrality Value</th>\n",
       "      <th>Avg Centrality Value</th>\n",
       "    </tr>\n",
       "  </thead>\n",
       "  <tbody>\n",
       "    <tr>\n",
       "      <th>0</th>\n",
       "      <td>119</td>\n",
       "      <td>0.174497</td>\n",
       "      <td>0.035794</td>\n",
       "    </tr>\n",
       "  </tbody>\n",
       "</table>\n",
       "</div>"
      ],
      "text/plain": [
       "   Node w/Max Centrality  Max Centrality Value  Avg Centrality Value\n",
       "0                    119              0.174497              0.035794"
      ]
     },
     "execution_count": 146,
     "metadata": {},
     "output_type": "execute_result"
    }
   ],
   "source": [
    "dcs = pd.DataFrame([[max_dc, dc[max_dc], avg_dc]], \n",
    "                     columns=['Node w/Max Centrality', 'Max Centrality Value', 'Avg Centrality Value'])\n",
    "dcs"
   ]
  },
  {
   "cell_type": "markdown",
   "metadata": {},
   "source": [
    "### Betweenness centrality"
   ]
  },
  {
   "cell_type": "code",
   "execution_count": 147,
   "metadata": {},
   "outputs": [],
   "source": [
    "bc = {}\n",
    "Nodes, Edges = sub_fb.GetBetweennessCentr(1.0)\n",
    "\n",
    "for n in Nodes:\n",
    "    bc[n] = Nodes[n]"
   ]
  },
  {
   "cell_type": "code",
   "execution_count": 148,
   "metadata": {},
   "outputs": [
    {
     "data": {
      "text/plain": [
       "119"
      ]
     },
     "execution_count": 148,
     "metadata": {},
     "output_type": "execute_result"
    }
   ],
   "source": [
    "max_bc = max(bc.items(), key=operator.itemgetter(1))[0]\n",
    "max_bc"
   ]
  },
  {
   "cell_type": "code",
   "execution_count": 149,
   "metadata": {},
   "outputs": [
    {
     "data": {
      "text/plain": [
       "65.27333333333334"
      ]
     },
     "execution_count": 149,
     "metadata": {},
     "output_type": "execute_result"
    }
   ],
   "source": [
    "avg_bc = statistics.mean(bc.values())\n",
    "avg_bc"
   ]
  },
  {
   "cell_type": "code",
   "execution_count": 150,
   "metadata": {},
   "outputs": [
    {
     "data": {
      "text/html": [
       "<div>\n",
       "<style scoped>\n",
       "    .dataframe tbody tr th:only-of-type {\n",
       "        vertical-align: middle;\n",
       "    }\n",
       "\n",
       "    .dataframe tbody tr th {\n",
       "        vertical-align: top;\n",
       "    }\n",
       "\n",
       "    .dataframe thead th {\n",
       "        text-align: right;\n",
       "    }\n",
       "</style>\n",
       "<table border=\"1\" class=\"dataframe\">\n",
       "  <thead>\n",
       "    <tr style=\"text-align: right;\">\n",
       "      <th></th>\n",
       "      <th>Node w/Max Centrality</th>\n",
       "      <th>Max Centrality Value</th>\n",
       "      <th>Avg Centrality Value</th>\n",
       "    </tr>\n",
       "  </thead>\n",
       "  <tbody>\n",
       "    <tr>\n",
       "      <th>0</th>\n",
       "      <td>119</td>\n",
       "      <td>1032.136276</td>\n",
       "      <td>65.273333</td>\n",
       "    </tr>\n",
       "  </tbody>\n",
       "</table>\n",
       "</div>"
      ],
      "text/plain": [
       "   Node w/Max Centrality  Max Centrality Value  Avg Centrality Value\n",
       "0                    119           1032.136276             65.273333"
      ]
     },
     "execution_count": 150,
     "metadata": {},
     "output_type": "execute_result"
    }
   ],
   "source": [
    "bcs = pd.DataFrame([[max_bc, bc[max_bc], avg_bc]], \n",
    "                     columns=['Node w/Max Centrality', 'Max Centrality Value', 'Avg Centrality Value'])\n",
    "bcs"
   ]
  },
  {
   "cell_type": "markdown",
   "metadata": {},
   "source": [
    "### Closeness centrality"
   ]
  },
  {
   "cell_type": "code",
   "execution_count": 151,
   "metadata": {},
   "outputs": [],
   "source": [
    "cc = {}\n",
    "for NI in sub_fb.Nodes():\n",
    "    cc[NI.GetId()] = sub_fb.GetClosenessCentr(NI.GetId())"
   ]
  },
  {
   "cell_type": "code",
   "execution_count": 152,
   "metadata": {},
   "outputs": [
    {
     "data": {
      "text/plain": [
       "239"
      ]
     },
     "execution_count": 152,
     "metadata": {},
     "output_type": "execute_result"
    }
   ],
   "source": [
    "max_cc = max(cc.items(), key=operator.itemgetter(1))[0]\n",
    "max_cc"
   ]
  },
  {
   "cell_type": "code",
   "execution_count": 153,
   "metadata": {},
   "outputs": [
    {
     "data": {
      "text/plain": [
       "0.1374593159491711"
      ]
     },
     "execution_count": 153,
     "metadata": {},
     "output_type": "execute_result"
    }
   ],
   "source": [
    "avg_cc = statistics.mean(cc.values())\n",
    "avg_cc"
   ]
  },
  {
   "cell_type": "code",
   "execution_count": 154,
   "metadata": {},
   "outputs": [
    {
     "data": {
      "text/html": [
       "<div>\n",
       "<style scoped>\n",
       "    .dataframe tbody tr th:only-of-type {\n",
       "        vertical-align: middle;\n",
       "    }\n",
       "\n",
       "    .dataframe tbody tr th {\n",
       "        vertical-align: top;\n",
       "    }\n",
       "\n",
       "    .dataframe thead th {\n",
       "        text-align: right;\n",
       "    }\n",
       "</style>\n",
       "<table border=\"1\" class=\"dataframe\">\n",
       "  <thead>\n",
       "    <tr style=\"text-align: right;\">\n",
       "      <th></th>\n",
       "      <th>Node w/Max Centrality</th>\n",
       "      <th>Max Centrality Value</th>\n",
       "      <th>Avg Centrality Value</th>\n",
       "    </tr>\n",
       "  </thead>\n",
       "  <tbody>\n",
       "    <tr>\n",
       "      <th>0</th>\n",
       "      <td>239</td>\n",
       "      <td>0.297677</td>\n",
       "      <td>0.137459</td>\n",
       "    </tr>\n",
       "  </tbody>\n",
       "</table>\n",
       "</div>"
      ],
      "text/plain": [
       "   Node w/Max Centrality  Max Centrality Value  Avg Centrality Value\n",
       "0                    239              0.297677              0.137459"
      ]
     },
     "execution_count": 154,
     "metadata": {},
     "output_type": "execute_result"
    }
   ],
   "source": [
    "ccs = pd.DataFrame([[max_cc, cc[max_cc], avg_cc]], \n",
    "                     columns=['Node w/Max Centrality', 'Max Centrality Value', 'Avg Centrality Value'])\n",
    "ccs"
   ]
  },
  {
   "cell_type": "markdown",
   "metadata": {},
   "source": [
    "### Clustering coefficient"
   ]
  },
  {
   "cell_type": "code",
   "execution_count": 131,
   "metadata": {},
   "outputs": [
    {
     "data": {
      "text/plain": [
       "0.37629102136253845"
      ]
     },
     "execution_count": 131,
     "metadata": {},
     "output_type": "execute_result"
    }
   ],
   "source": [
    "ccf = sub_fb.GetClustCf(-1)\n",
    "ccf"
   ]
  },
  {
   "cell_type": "markdown",
   "metadata": {},
   "source": [
    "### Bridges"
   ]
  },
  {
   "cell_type": "code",
   "execution_count": 134,
   "metadata": {},
   "outputs": [],
   "source": [
    "n1 = []\n",
    "n2 = []\n",
    "b = sub_fb.GetEdgeBridges()\n",
    "for e in b:\n",
    "    n1.append(e.GetVal1())\n",
    "    n2.append(e.GetVal2())"
   ]
  },
  {
   "cell_type": "code",
   "execution_count": 136,
   "metadata": {},
   "outputs": [
    {
     "data": {
      "text/html": [
       "<div>\n",
       "<style scoped>\n",
       "    .dataframe tbody tr th:only-of-type {\n",
       "        vertical-align: middle;\n",
       "    }\n",
       "\n",
       "    .dataframe tbody tr th {\n",
       "        vertical-align: top;\n",
       "    }\n",
       "\n",
       "    .dataframe thead th {\n",
       "        text-align: right;\n",
       "    }\n",
       "</style>\n",
       "<table border=\"1\" class=\"dataframe\">\n",
       "  <thead>\n",
       "    <tr style=\"text-align: right;\">\n",
       "      <th></th>\n",
       "      <th>1st Node of Bridge</th>\n",
       "      <th>2nd Node of Bridge</th>\n",
       "    </tr>\n",
       "  </thead>\n",
       "  <tbody>\n",
       "    <tr>\n",
       "      <th>0</th>\n",
       "      <td>120</td>\n",
       "      <td>247</td>\n",
       "    </tr>\n",
       "    <tr>\n",
       "      <th>1</th>\n",
       "      <td>120</td>\n",
       "      <td>136</td>\n",
       "    </tr>\n",
       "    <tr>\n",
       "      <th>2</th>\n",
       "      <td>166</td>\n",
       "      <td>198</td>\n",
       "    </tr>\n",
       "    <tr>\n",
       "      <th>3</th>\n",
       "      <td>163</td>\n",
       "      <td>173</td>\n",
       "    </tr>\n",
       "    <tr>\n",
       "      <th>4</th>\n",
       "      <td>130</td>\n",
       "      <td>191</td>\n",
       "    </tr>\n",
       "    <tr>\n",
       "      <th>5</th>\n",
       "      <td>155</td>\n",
       "      <td>157</td>\n",
       "    </tr>\n",
       "    <tr>\n",
       "      <th>6</th>\n",
       "      <td>124</td>\n",
       "      <td>157</td>\n",
       "    </tr>\n",
       "    <tr>\n",
       "      <th>7</th>\n",
       "      <td>124</td>\n",
       "      <td>170</td>\n",
       "    </tr>\n",
       "    <tr>\n",
       "      <th>8</th>\n",
       "      <td>159</td>\n",
       "      <td>172</td>\n",
       "    </tr>\n",
       "    <tr>\n",
       "      <th>9</th>\n",
       "      <td>117</td>\n",
       "      <td>231</td>\n",
       "    </tr>\n",
       "    <tr>\n",
       "      <th>10</th>\n",
       "      <td>129</td>\n",
       "      <td>168</td>\n",
       "    </tr>\n",
       "    <tr>\n",
       "      <th>11</th>\n",
       "      <td>158</td>\n",
       "      <td>168</td>\n",
       "    </tr>\n",
       "    <tr>\n",
       "      <th>12</th>\n",
       "      <td>234</td>\n",
       "      <td>239</td>\n",
       "    </tr>\n",
       "    <tr>\n",
       "      <th>13</th>\n",
       "      <td>222</td>\n",
       "      <td>240</td>\n",
       "    </tr>\n",
       "    <tr>\n",
       "      <th>14</th>\n",
       "      <td>133</td>\n",
       "      <td>183</td>\n",
       "    </tr>\n",
       "    <tr>\n",
       "      <th>15</th>\n",
       "      <td>186</td>\n",
       "      <td>221</td>\n",
       "    </tr>\n",
       "    <tr>\n",
       "      <th>16</th>\n",
       "      <td>107</td>\n",
       "      <td>171</td>\n",
       "    </tr>\n",
       "    <tr>\n",
       "      <th>17</th>\n",
       "      <td>190</td>\n",
       "      <td>229</td>\n",
       "    </tr>\n",
       "    <tr>\n",
       "      <th>18</th>\n",
       "      <td>144</td>\n",
       "      <td>151</td>\n",
       "    </tr>\n",
       "    <tr>\n",
       "      <th>19</th>\n",
       "      <td>214</td>\n",
       "      <td>230</td>\n",
       "    </tr>\n",
       "    <tr>\n",
       "      <th>20</th>\n",
       "      <td>192</td>\n",
       "      <td>205</td>\n",
       "    </tr>\n",
       "    <tr>\n",
       "      <th>21</th>\n",
       "      <td>115</td>\n",
       "      <td>192</td>\n",
       "    </tr>\n",
       "    <tr>\n",
       "      <th>22</th>\n",
       "      <td>115</td>\n",
       "      <td>220</td>\n",
       "    </tr>\n",
       "    <tr>\n",
       "      <th>23</th>\n",
       "      <td>216</td>\n",
       "      <td>243</td>\n",
       "    </tr>\n",
       "    <tr>\n",
       "      <th>24</th>\n",
       "      <td>112</td>\n",
       "      <td>174</td>\n",
       "    </tr>\n",
       "    <tr>\n",
       "      <th>25</th>\n",
       "      <td>145</td>\n",
       "      <td>179</td>\n",
       "    </tr>\n",
       "    <tr>\n",
       "      <th>26</th>\n",
       "      <td>154</td>\n",
       "      <td>219</td>\n",
       "    </tr>\n",
       "    <tr>\n",
       "      <th>27</th>\n",
       "      <td>147</td>\n",
       "      <td>219</td>\n",
       "    </tr>\n",
       "    <tr>\n",
       "      <th>28</th>\n",
       "      <td>152</td>\n",
       "      <td>181</td>\n",
       "    </tr>\n",
       "  </tbody>\n",
       "</table>\n",
       "</div>"
      ],
      "text/plain": [
       "    1st Node of Bridge  2nd Node of Bridge\n",
       "0                  120                 247\n",
       "1                  120                 136\n",
       "2                  166                 198\n",
       "3                  163                 173\n",
       "4                  130                 191\n",
       "5                  155                 157\n",
       "6                  124                 157\n",
       "7                  124                 170\n",
       "8                  159                 172\n",
       "9                  117                 231\n",
       "10                 129                 168\n",
       "11                 158                 168\n",
       "12                 234                 239\n",
       "13                 222                 240\n",
       "14                 133                 183\n",
       "15                 186                 221\n",
       "16                 107                 171\n",
       "17                 190                 229\n",
       "18                 144                 151\n",
       "19                 214                 230\n",
       "20                 192                 205\n",
       "21                 115                 192\n",
       "22                 115                 220\n",
       "23                 216                 243\n",
       "24                 112                 174\n",
       "25                 145                 179\n",
       "26                 154                 219\n",
       "27                 147                 219\n",
       "28                 152                 181"
      ]
     },
     "execution_count": 136,
     "metadata": {},
     "output_type": "execute_result"
    }
   ],
   "source": [
    "bs = pd.DataFrame(columns=['1st Node of Bridge', '2nd Node of Bridge'])\n",
    "bs['1st Node of Bridge'] = n1\n",
    "bs['2nd Node of Bridge'] = n2\n",
    "bs"
   ]
  },
  {
   "cell_type": "code",
   "execution_count": 137,
   "metadata": {},
   "outputs": [
    {
     "data": {
      "text/plain": [
       "29"
      ]
     },
     "execution_count": 137,
     "metadata": {},
     "output_type": "execute_result"
    }
   ],
   "source": [
    "bridge_count = len(bs)\n",
    "bridge_count"
   ]
  },
  {
   "cell_type": "markdown",
   "metadata": {},
   "source": [
    "## Twitch (undirected)"
   ]
  },
  {
   "cell_type": "code",
   "execution_count": 70,
   "metadata": {},
   "outputs": [],
   "source": [
    "# get first 150 unique nodes in Twitch graph\n",
    "nodes = []\n",
    "n = 150\n",
    "counter = 0\n",
    "\n",
    "with open('twitch8.txt', encoding=\"utf8\") as infile:\n",
    "    for line in infile:\n",
    "        if counter == n: \n",
    "            break\n",
    "            \n",
    "        node = int(line.split()[0])\n",
    "        if node not in nodes:\n",
    "            nodes.append(node)\n",
    "            counter = counter + 1"
   ]
  },
  {
   "cell_type": "code",
   "execution_count": 71,
   "metadata": {},
   "outputs": [
    {
     "data": {
      "text/plain": [
       "150"
      ]
     },
     "execution_count": 71,
     "metadata": {},
     "output_type": "execute_result"
    }
   ],
   "source": [
    "count = len(nodes)\n",
    "count"
   ]
  },
  {
   "cell_type": "code",
   "execution_count": 72,
   "metadata": {},
   "outputs": [
    {
     "data": {
      "text/plain": [
       "426800"
      ]
     },
     "execution_count": 72,
     "metadata": {},
     "output_type": "execute_result"
    }
   ],
   "source": [
    "tw = snap.LoadEdgeList(snap.TUNGraph, \"twitch8.txt\", 0, 1)\n",
    "tw.GetEdges()"
   ]
  },
  {
   "cell_type": "code",
   "execution_count": 74,
   "metadata": {},
   "outputs": [
    {
     "data": {
      "text/plain": [
       "422"
      ]
     },
     "execution_count": 74,
     "metadata": {},
     "output_type": "execute_result"
    }
   ],
   "source": [
    "sub_tw = tw.GetSubGraph(nodes)\n",
    "sub_tw.GetEdges()"
   ]
  },
  {
   "cell_type": "code",
   "execution_count": 75,
   "metadata": {},
   "outputs": [
    {
     "data": {
      "text/plain": [
       "150"
      ]
     },
     "execution_count": 75,
     "metadata": {},
     "output_type": "execute_result"
    }
   ],
   "source": [
    "sub_tw.GetNodes()"
   ]
  },
  {
   "cell_type": "markdown",
   "metadata": {},
   "source": [
    "### Twitch network data has been preprocessed. A subgraph of the network with 150 nodes and 422 edges will be analyzed."
   ]
  },
  {
   "cell_type": "code",
   "execution_count": 122,
   "metadata": {},
   "outputs": [],
   "source": [
    "labels_tw = {}\n",
    "for NI in sub_tw.Nodes():\n",
    "    labels_tw[NI.GetId()] = str(NI.GetId())\n",
    "sub_tw.DrawGViz(snap.gvlNeato, \"output_tw.png\", \" \", labels_tw)"
   ]
  },
  {
   "cell_type": "markdown",
   "metadata": {},
   "source": [
    "![alt text](output_tw.png)"
   ]
  },
  {
   "cell_type": "markdown",
   "metadata": {},
   "source": [
    "### Average distance and diameter"
   ]
  },
  {
   "cell_type": "code",
   "execution_count": 123,
   "metadata": {},
   "outputs": [],
   "source": [
    "result = sub_tw.GetBfsEffDiam(count, nodes, False)\n",
    "avg_dist = result[0]\n",
    "diameter = result[2]"
   ]
  },
  {
   "cell_type": "code",
   "execution_count": 124,
   "metadata": {},
   "outputs": [
    {
     "data": {
      "text/html": [
       "<div>\n",
       "<style scoped>\n",
       "    .dataframe tbody tr th:only-of-type {\n",
       "        vertical-align: middle;\n",
       "    }\n",
       "\n",
       "    .dataframe tbody tr th {\n",
       "        vertical-align: top;\n",
       "    }\n",
       "\n",
       "    .dataframe thead th {\n",
       "        text-align: right;\n",
       "    }\n",
       "</style>\n",
       "<table border=\"1\" class=\"dataframe\">\n",
       "  <thead>\n",
       "    <tr style=\"text-align: right;\">\n",
       "      <th></th>\n",
       "      <th>Avg Distance</th>\n",
       "      <th>Diameter</th>\n",
       "    </tr>\n",
       "  </thead>\n",
       "  <tbody>\n",
       "    <tr>\n",
       "      <th>0</th>\n",
       "      <td>3.670365</td>\n",
       "      <td>6</td>\n",
       "    </tr>\n",
       "  </tbody>\n",
       "</table>\n",
       "</div>"
      ],
      "text/plain": [
       "   Avg Distance  Diameter\n",
       "0      3.670365         6"
      ]
     },
     "execution_count": 124,
     "metadata": {},
     "output_type": "execute_result"
    }
   ],
   "source": [
    "dist = pd.DataFrame([[avg_dist, diameter]], columns=['Avg Distance', 'Diameter'])\n",
    "dist"
   ]
  },
  {
   "cell_type": "markdown",
   "metadata": {},
   "source": [
    "### Degree centrality"
   ]
  },
  {
   "cell_type": "code",
   "execution_count": 125,
   "metadata": {},
   "outputs": [],
   "source": [
    "dc = {}\n",
    "for NI in sub_tw.Nodes():\n",
    "    dc[NI.GetId()] = sub_tw.GetDegreeCentr(NI.GetId())"
   ]
  },
  {
   "cell_type": "code",
   "execution_count": 126,
   "metadata": {},
   "outputs": [
    {
     "data": {
      "text/plain": [
       "127"
      ]
     },
     "execution_count": 126,
     "metadata": {},
     "output_type": "execute_result"
    }
   ],
   "source": [
    "max_dc = max(dc.items(), key=operator.itemgetter(1))[0]\n",
    "max_dc"
   ]
  },
  {
   "cell_type": "code",
   "execution_count": 127,
   "metadata": {},
   "outputs": [
    {
     "data": {
      "text/plain": [
       "0.03776286353467562"
      ]
     },
     "execution_count": 127,
     "metadata": {},
     "output_type": "execute_result"
    }
   ],
   "source": [
    "avg_dc = statistics.mean(dc.values())\n",
    "avg_dc"
   ]
  },
  {
   "cell_type": "code",
   "execution_count": 128,
   "metadata": {},
   "outputs": [
    {
     "data": {
      "text/html": [
       "<div>\n",
       "<style scoped>\n",
       "    .dataframe tbody tr th:only-of-type {\n",
       "        vertical-align: middle;\n",
       "    }\n",
       "\n",
       "    .dataframe tbody tr th {\n",
       "        vertical-align: top;\n",
       "    }\n",
       "\n",
       "    .dataframe thead th {\n",
       "        text-align: right;\n",
       "    }\n",
       "</style>\n",
       "<table border=\"1\" class=\"dataframe\">\n",
       "  <thead>\n",
       "    <tr style=\"text-align: right;\">\n",
       "      <th></th>\n",
       "      <th>Node w/Max Centrality</th>\n",
       "      <th>Max Centrality Value</th>\n",
       "      <th>Avg Centrality Value</th>\n",
       "    </tr>\n",
       "  </thead>\n",
       "  <tbody>\n",
       "    <tr>\n",
       "      <th>0</th>\n",
       "      <td>127</td>\n",
       "      <td>0.348993</td>\n",
       "      <td>0.037763</td>\n",
       "    </tr>\n",
       "  </tbody>\n",
       "</table>\n",
       "</div>"
      ],
      "text/plain": [
       "   Node w/Max Centrality  Max Centrality Value  Avg Centrality Value\n",
       "0                    127              0.348993              0.037763"
      ]
     },
     "execution_count": 128,
     "metadata": {},
     "output_type": "execute_result"
    }
   ],
   "source": [
    "dcs = pd.DataFrame([[max_dc, dc[max_dc], avg_dc]], \n",
    "                     columns=['Node w/Max Centrality', 'Max Centrality Value', 'Avg Centrality Value'])\n",
    "dcs"
   ]
  },
  {
   "cell_type": "markdown",
   "metadata": {},
   "source": [
    "### Betweenness centrality"
   ]
  },
  {
   "cell_type": "code",
   "execution_count": 129,
   "metadata": {},
   "outputs": [],
   "source": [
    "bc = {}\n",
    "Nodes, Edges = sub_tw.GetBetweennessCentr(1.0)\n",
    "\n",
    "for n in Nodes:\n",
    "    bc[n] = Nodes[n]"
   ]
  },
  {
   "cell_type": "code",
   "execution_count": 130,
   "metadata": {},
   "outputs": [
    {
     "data": {
      "text/plain": [
       "127"
      ]
     },
     "execution_count": 130,
     "metadata": {},
     "output_type": "execute_result"
    }
   ],
   "source": [
    "max_bc = max(bc.items(), key=operator.itemgetter(1))[0]\n",
    "max_bc"
   ]
  },
  {
   "cell_type": "code",
   "execution_count": 131,
   "metadata": {},
   "outputs": [
    {
     "data": {
      "text/plain": [
       "128.34666666666666"
      ]
     },
     "execution_count": 131,
     "metadata": {},
     "output_type": "execute_result"
    }
   ],
   "source": [
    "avg_bc = statistics.mean(bc.values())\n",
    "avg_bc"
   ]
  },
  {
   "cell_type": "code",
   "execution_count": 132,
   "metadata": {},
   "outputs": [
    {
     "data": {
      "text/html": [
       "<div>\n",
       "<style scoped>\n",
       "    .dataframe tbody tr th:only-of-type {\n",
       "        vertical-align: middle;\n",
       "    }\n",
       "\n",
       "    .dataframe tbody tr th {\n",
       "        vertical-align: top;\n",
       "    }\n",
       "\n",
       "    .dataframe thead th {\n",
       "        text-align: right;\n",
       "    }\n",
       "</style>\n",
       "<table border=\"1\" class=\"dataframe\">\n",
       "  <thead>\n",
       "    <tr style=\"text-align: right;\">\n",
       "      <th></th>\n",
       "      <th>Node w/Max Centrality</th>\n",
       "      <th>Max Centrality Value</th>\n",
       "      <th>Avg Centrality Value</th>\n",
       "    </tr>\n",
       "  </thead>\n",
       "  <tbody>\n",
       "    <tr>\n",
       "      <th>0</th>\n",
       "      <td>127</td>\n",
       "      <td>3321.937563</td>\n",
       "      <td>128.346667</td>\n",
       "    </tr>\n",
       "  </tbody>\n",
       "</table>\n",
       "</div>"
      ],
      "text/plain": [
       "   Node w/Max Centrality  Max Centrality Value  Avg Centrality Value\n",
       "0                    127           3321.937563            128.346667"
      ]
     },
     "execution_count": 132,
     "metadata": {},
     "output_type": "execute_result"
    }
   ],
   "source": [
    "bcs = pd.DataFrame([[max_bc, bc[max_bc], avg_bc]], \n",
    "                     columns=['Node w/Max Centrality', 'Max Centrality Value', 'Avg Centrality Value'])\n",
    "bcs"
   ]
  },
  {
   "cell_type": "markdown",
   "metadata": {},
   "source": [
    "### Closeness centrality"
   ]
  },
  {
   "cell_type": "code",
   "execution_count": 133,
   "metadata": {},
   "outputs": [],
   "source": [
    "cc = {}\n",
    "for NI in sub_tw.Nodes():\n",
    "    cc[NI.GetId()] = sub_tw.GetClosenessCentr(NI.GetId())"
   ]
  },
  {
   "cell_type": "code",
   "execution_count": 134,
   "metadata": {},
   "outputs": [
    {
     "data": {
      "text/plain": [
       "127"
      ]
     },
     "execution_count": 134,
     "metadata": {},
     "output_type": "execute_result"
    }
   ],
   "source": [
    "max_cc = max(cc.items(), key=operator.itemgetter(1))[0]\n",
    "max_cc"
   ]
  },
  {
   "cell_type": "code",
   "execution_count": 135,
   "metadata": {},
   "outputs": [
    {
     "data": {
      "text/plain": [
       "0.32140222401595264"
      ]
     },
     "execution_count": 135,
     "metadata": {},
     "output_type": "execute_result"
    }
   ],
   "source": [
    "avg_cc = statistics.mean(cc.values())\n",
    "avg_cc"
   ]
  },
  {
   "cell_type": "code",
   "execution_count": 137,
   "metadata": {},
   "outputs": [
    {
     "data": {
      "text/html": [
       "<div>\n",
       "<style scoped>\n",
       "    .dataframe tbody tr th:only-of-type {\n",
       "        vertical-align: middle;\n",
       "    }\n",
       "\n",
       "    .dataframe tbody tr th {\n",
       "        vertical-align: top;\n",
       "    }\n",
       "\n",
       "    .dataframe thead th {\n",
       "        text-align: right;\n",
       "    }\n",
       "</style>\n",
       "<table border=\"1\" class=\"dataframe\">\n",
       "  <thead>\n",
       "    <tr style=\"text-align: right;\">\n",
       "      <th></th>\n",
       "      <th>Node w/Max Centrality</th>\n",
       "      <th>Max Centrality Value</th>\n",
       "      <th>Avg Centrality Value</th>\n",
       "    </tr>\n",
       "  </thead>\n",
       "  <tbody>\n",
       "    <tr>\n",
       "      <th>0</th>\n",
       "      <td>127</td>\n",
       "      <td>0.52453</td>\n",
       "      <td>0.321402</td>\n",
       "    </tr>\n",
       "  </tbody>\n",
       "</table>\n",
       "</div>"
      ],
      "text/plain": [
       "   Node w/Max Centrality  Max Centrality Value  Avg Centrality Value\n",
       "0                    127               0.52453              0.321402"
      ]
     },
     "execution_count": 137,
     "metadata": {},
     "output_type": "execute_result"
    }
   ],
   "source": [
    "ccs = pd.DataFrame([[max_cc, cc[max_cc], avg_cc]], \n",
    "                     columns=['Node w/Max Centrality', 'Max Centrality Value', 'Avg Centrality Value'])\n",
    "ccs"
   ]
  },
  {
   "cell_type": "markdown",
   "metadata": {},
   "source": [
    "### Clustering coefficient"
   ]
  },
  {
   "cell_type": "code",
   "execution_count": 155,
   "metadata": {},
   "outputs": [
    {
     "data": {
      "text/plain": [
       "0.1814332303155832"
      ]
     },
     "execution_count": 155,
     "metadata": {},
     "output_type": "execute_result"
    }
   ],
   "source": [
    "ccf = sub_tw.GetClustCf(-1)\n",
    "ccf"
   ]
  },
  {
   "cell_type": "code",
   "execution_count": 156,
   "metadata": {},
   "outputs": [],
   "source": [
    "n1 = []\n",
    "n2 = []\n",
    "b = sub_tw.GetEdgeBridges()\n",
    "for e in b:\n",
    "    n1.append(e.GetVal1())\n",
    "    n2.append(e.GetVal2())"
   ]
  },
  {
   "cell_type": "code",
   "execution_count": 157,
   "metadata": {},
   "outputs": [
    {
     "data": {
      "text/html": [
       "<div>\n",
       "<style scoped>\n",
       "    .dataframe tbody tr th:only-of-type {\n",
       "        vertical-align: middle;\n",
       "    }\n",
       "\n",
       "    .dataframe tbody tr th {\n",
       "        vertical-align: top;\n",
       "    }\n",
       "\n",
       "    .dataframe thead th {\n",
       "        text-align: right;\n",
       "    }\n",
       "</style>\n",
       "<table border=\"1\" class=\"dataframe\">\n",
       "  <thead>\n",
       "    <tr style=\"text-align: right;\">\n",
       "      <th></th>\n",
       "      <th>1st Node of Bridge</th>\n",
       "      <th>2nd Node of Bridge</th>\n",
       "    </tr>\n",
       "  </thead>\n",
       "  <tbody>\n",
       "    <tr>\n",
       "      <th>0</th>\n",
       "      <td>8</td>\n",
       "      <td>67</td>\n",
       "    </tr>\n",
       "    <tr>\n",
       "      <th>1</th>\n",
       "      <td>18</td>\n",
       "      <td>77</td>\n",
       "    </tr>\n",
       "    <tr>\n",
       "      <th>2</th>\n",
       "      <td>32</td>\n",
       "      <td>63</td>\n",
       "    </tr>\n",
       "    <tr>\n",
       "      <th>3</th>\n",
       "      <td>93</td>\n",
       "      <td>6027</td>\n",
       "    </tr>\n",
       "    <tr>\n",
       "      <th>4</th>\n",
       "      <td>115</td>\n",
       "      <td>142</td>\n",
       "    </tr>\n",
       "    <tr>\n",
       "      <th>5</th>\n",
       "      <td>44</td>\n",
       "      <td>133</td>\n",
       "    </tr>\n",
       "    <tr>\n",
       "      <th>6</th>\n",
       "      <td>77</td>\n",
       "      <td>3504</td>\n",
       "    </tr>\n",
       "    <tr>\n",
       "      <th>7</th>\n",
       "      <td>90</td>\n",
       "      <td>97</td>\n",
       "    </tr>\n",
       "    <tr>\n",
       "      <th>8</th>\n",
       "      <td>97</td>\n",
       "      <td>136</td>\n",
       "    </tr>\n",
       "    <tr>\n",
       "      <th>9</th>\n",
       "      <td>85</td>\n",
       "      <td>138</td>\n",
       "    </tr>\n",
       "    <tr>\n",
       "      <th>10</th>\n",
       "      <td>47</td>\n",
       "      <td>127</td>\n",
       "    </tr>\n",
       "    <tr>\n",
       "      <th>11</th>\n",
       "      <td>73</td>\n",
       "      <td>127</td>\n",
       "    </tr>\n",
       "    <tr>\n",
       "      <th>12</th>\n",
       "      <td>127</td>\n",
       "      <td>137</td>\n",
       "    </tr>\n",
       "    <tr>\n",
       "      <th>13</th>\n",
       "      <td>24</td>\n",
       "      <td>114</td>\n",
       "    </tr>\n",
       "    <tr>\n",
       "      <th>14</th>\n",
       "      <td>12</td>\n",
       "      <td>55</td>\n",
       "    </tr>\n",
       "    <tr>\n",
       "      <th>15</th>\n",
       "      <td>42</td>\n",
       "      <td>125</td>\n",
       "    </tr>\n",
       "    <tr>\n",
       "      <th>16</th>\n",
       "      <td>12</td>\n",
       "      <td>125</td>\n",
       "    </tr>\n",
       "    <tr>\n",
       "      <th>17</th>\n",
       "      <td>1</td>\n",
       "      <td>4710</td>\n",
       "    </tr>\n",
       "    <tr>\n",
       "      <th>18</th>\n",
       "      <td>116</td>\n",
       "      <td>6194</td>\n",
       "    </tr>\n",
       "  </tbody>\n",
       "</table>\n",
       "</div>"
      ],
      "text/plain": [
       "    1st Node of Bridge  2nd Node of Bridge\n",
       "0                    8                  67\n",
       "1                   18                  77\n",
       "2                   32                  63\n",
       "3                   93                6027\n",
       "4                  115                 142\n",
       "5                   44                 133\n",
       "6                   77                3504\n",
       "7                   90                  97\n",
       "8                   97                 136\n",
       "9                   85                 138\n",
       "10                  47                 127\n",
       "11                  73                 127\n",
       "12                 127                 137\n",
       "13                  24                 114\n",
       "14                  12                  55\n",
       "15                  42                 125\n",
       "16                  12                 125\n",
       "17                   1                4710\n",
       "18                 116                6194"
      ]
     },
     "execution_count": 157,
     "metadata": {},
     "output_type": "execute_result"
    }
   ],
   "source": [
    "bs = pd.DataFrame(columns=['1st Node of Bridge', '2nd Node of Bridge'])\n",
    "bs['1st Node of Bridge'] = n1\n",
    "bs['2nd Node of Bridge'] = n2\n",
    "bs"
   ]
  },
  {
   "cell_type": "code",
   "execution_count": 158,
   "metadata": {},
   "outputs": [
    {
     "data": {
      "text/plain": [
       "19"
      ]
     },
     "execution_count": 158,
     "metadata": {},
     "output_type": "execute_result"
    }
   ],
   "source": [
    "bridge_count = len(bs)\n",
    "bridge_count"
   ]
  },
  {
   "cell_type": "markdown",
   "metadata": {},
   "source": [
    "## Twitter (directed)"
   ]
  },
  {
   "cell_type": "code",
   "execution_count": 63,
   "metadata": {},
   "outputs": [],
   "source": [
    "# get first 150 unique nodes in Twitter graph\n",
    "nodes = []\n",
    "n = 150\n",
    "counter = 0\n",
    "\n",
    "with open('twitter_combined.txt', encoding=\"utf8\") as infile:\n",
    "    for line in infile:\n",
    "        if counter == n: \n",
    "            break\n",
    "            \n",
    "        node = int(line.split()[0])\n",
    "        if node not in nodes:\n",
    "            nodes.append(node)\n",
    "            counter = counter + 1"
   ]
  },
  {
   "cell_type": "code",
   "execution_count": 64,
   "metadata": {},
   "outputs": [
    {
     "data": {
      "text/plain": [
       "150"
      ]
     },
     "execution_count": 64,
     "metadata": {},
     "output_type": "execute_result"
    }
   ],
   "source": [
    "count = len(nodes)\n",
    "count"
   ]
  },
  {
   "cell_type": "code",
   "execution_count": 67,
   "metadata": {},
   "outputs": [
    {
     "data": {
      "text/plain": [
       "1768149"
      ]
     },
     "execution_count": 67,
     "metadata": {},
     "output_type": "execute_result"
    }
   ],
   "source": [
    "tt = snap.LoadEdgeList(snap.TNGraph, \"twitter_combined.txt\", 0, 1)\n",
    "tt.GetEdges()"
   ]
  },
  {
   "cell_type": "code",
   "execution_count": 68,
   "metadata": {},
   "outputs": [
    {
     "data": {
      "text/plain": [
       "5731"
      ]
     },
     "execution_count": 68,
     "metadata": {},
     "output_type": "execute_result"
    }
   ],
   "source": [
    "sub_tt = tt.GetSubGraph(nodes)\n",
    "sub_tt.GetEdges()"
   ]
  },
  {
   "cell_type": "code",
   "execution_count": 69,
   "metadata": {},
   "outputs": [
    {
     "data": {
      "text/plain": [
       "150"
      ]
     },
     "execution_count": 69,
     "metadata": {},
     "output_type": "execute_result"
    }
   ],
   "source": [
    "sub_tt.GetNodes()"
   ]
  },
  {
   "cell_type": "markdown",
   "metadata": {},
   "source": [
    "### Twitter network data has been preprocessed. A subgraph of the network with 150 nodes and 5731 edges will be analyzed."
   ]
  },
  {
   "cell_type": "code",
   "execution_count": 6,
   "metadata": {},
   "outputs": [],
   "source": [
    "labels_tt = {}\n",
    "for NI in sub_tt.Nodes():\n",
    "    labels_tt[NI.GetId()] = str(NI.GetId())\n",
    "sub_tt.DrawGViz(snap.gvlNeato, \"output_tt2.png\", \" \", labels_tt)"
   ]
  },
  {
   "cell_type": "markdown",
   "metadata": {},
   "source": [
    "![alt text](output_tt2.png)"
   ]
  },
  {
   "cell_type": "markdown",
   "metadata": {},
   "source": [
    "### Average distance and diameter"
   ]
  },
  {
   "cell_type": "code",
   "execution_count": 7,
   "metadata": {},
   "outputs": [],
   "source": [
    "result = sub_tt.GetBfsEffDiam(count, nodes, False)\n",
    "avg_dist = result[0]\n",
    "diameter = result[2]"
   ]
  },
  {
   "cell_type": "code",
   "execution_count": 8,
   "metadata": {},
   "outputs": [
    {
     "data": {
      "text/html": [
       "<div>\n",
       "<style scoped>\n",
       "    .dataframe tbody tr th:only-of-type {\n",
       "        vertical-align: middle;\n",
       "    }\n",
       "\n",
       "    .dataframe tbody tr th {\n",
       "        vertical-align: top;\n",
       "    }\n",
       "\n",
       "    .dataframe thead th {\n",
       "        text-align: right;\n",
       "    }\n",
       "</style>\n",
       "<table border=\"1\" class=\"dataframe\">\n",
       "  <thead>\n",
       "    <tr style=\"text-align: right;\">\n",
       "      <th></th>\n",
       "      <th>Avg Distance</th>\n",
       "      <th>Diameter</th>\n",
       "    </tr>\n",
       "  </thead>\n",
       "  <tbody>\n",
       "    <tr>\n",
       "      <th>0</th>\n",
       "      <td>1.902125</td>\n",
       "      <td>4</td>\n",
       "    </tr>\n",
       "  </tbody>\n",
       "</table>\n",
       "</div>"
      ],
      "text/plain": [
       "   Avg Distance  Diameter\n",
       "0      1.902125         4"
      ]
     },
     "execution_count": 8,
     "metadata": {},
     "output_type": "execute_result"
    }
   ],
   "source": [
    "dist = pd.DataFrame([[avg_dist, diameter]], columns=['Avg Distance', 'Diameter'])\n",
    "dist"
   ]
  },
  {
   "cell_type": "markdown",
   "metadata": {},
   "source": [
    "### Degree centrality"
   ]
  },
  {
   "cell_type": "code",
   "execution_count": 9,
   "metadata": {},
   "outputs": [],
   "source": [
    "# cannot calculate degree centrality for a directed graph"
   ]
  },
  {
   "cell_type": "markdown",
   "metadata": {},
   "source": [
    "### Betweenness centrality"
   ]
  },
  {
   "cell_type": "code",
   "execution_count": 10,
   "metadata": {},
   "outputs": [],
   "source": [
    "bc = {}\n",
    "Nodes, Edges = sub_tt.GetBetweennessCentr(1.0)\n",
    "\n",
    "for n in Nodes:\n",
    "    bc[n] = Nodes[n]"
   ]
  },
  {
   "cell_type": "code",
   "execution_count": 11,
   "metadata": {},
   "outputs": [
    {
     "data": {
      "text/plain": [
       "40981798"
      ]
     },
     "execution_count": 11,
     "metadata": {},
     "output_type": "execute_result"
    }
   ],
   "source": [
    "max_bc = max(bc.items(), key=operator.itemgetter(1))[0]\n",
    "max_bc"
   ]
  },
  {
   "cell_type": "code",
   "execution_count": 12,
   "metadata": {},
   "outputs": [
    {
     "data": {
      "text/plain": [
       "52.19999999999999"
      ]
     },
     "execution_count": 12,
     "metadata": {},
     "output_type": "execute_result"
    }
   ],
   "source": [
    "avg_bc = statistics.mean(bc.values())\n",
    "avg_bc"
   ]
  },
  {
   "cell_type": "code",
   "execution_count": 13,
   "metadata": {},
   "outputs": [
    {
     "data": {
      "text/html": [
       "<div>\n",
       "<style scoped>\n",
       "    .dataframe tbody tr th:only-of-type {\n",
       "        vertical-align: middle;\n",
       "    }\n",
       "\n",
       "    .dataframe tbody tr th {\n",
       "        vertical-align: top;\n",
       "    }\n",
       "\n",
       "    .dataframe thead th {\n",
       "        text-align: right;\n",
       "    }\n",
       "</style>\n",
       "<table border=\"1\" class=\"dataframe\">\n",
       "  <thead>\n",
       "    <tr style=\"text-align: right;\">\n",
       "      <th></th>\n",
       "      <th>Node w/Max Centrality</th>\n",
       "      <th>Max Centrality Value</th>\n",
       "      <th>Avg Centrality Value</th>\n",
       "    </tr>\n",
       "  </thead>\n",
       "  <tbody>\n",
       "    <tr>\n",
       "      <th>0</th>\n",
       "      <td>40981798</td>\n",
       "      <td>659.361337</td>\n",
       "      <td>52.2</td>\n",
       "    </tr>\n",
       "  </tbody>\n",
       "</table>\n",
       "</div>"
      ],
      "text/plain": [
       "   Node w/Max Centrality  Max Centrality Value  Avg Centrality Value\n",
       "0               40981798            659.361337                  52.2"
      ]
     },
     "execution_count": 13,
     "metadata": {},
     "output_type": "execute_result"
    }
   ],
   "source": [
    "bcs = pd.DataFrame([[max_bc, bc[max_bc], avg_bc]], \n",
    "                     columns=['Node w/Max Centrality', 'Max Centrality Value', 'Avg Centrality Value'])\n",
    "bcs"
   ]
  },
  {
   "cell_type": "markdown",
   "metadata": {},
   "source": [
    "### Closeness centrality"
   ]
  },
  {
   "cell_type": "code",
   "execution_count": 14,
   "metadata": {},
   "outputs": [],
   "source": [
    "cc = {}\n",
    "for NI in sub_tt.Nodes():\n",
    "    cc[NI.GetId()] = sub_tt.GetClosenessCentr(NI.GetId())"
   ]
  },
  {
   "cell_type": "code",
   "execution_count": 15,
   "metadata": {},
   "outputs": [
    {
     "data": {
      "text/plain": [
       "43003845"
      ]
     },
     "execution_count": 15,
     "metadata": {},
     "output_type": "execute_result"
    }
   ],
   "source": [
    "max_cc = max(cc.items(), key=operator.itemgetter(1))[0]\n",
    "max_cc"
   ]
  },
  {
   "cell_type": "code",
   "execution_count": 16,
   "metadata": {},
   "outputs": [
    {
     "data": {
      "text/plain": [
       "0.6003720846757238"
      ]
     },
     "execution_count": 16,
     "metadata": {},
     "output_type": "execute_result"
    }
   ],
   "source": [
    "avg_cc = statistics.mean(cc.values())\n",
    "avg_cc"
   ]
  },
  {
   "cell_type": "code",
   "execution_count": 17,
   "metadata": {},
   "outputs": [
    {
     "data": {
      "text/html": [
       "<div>\n",
       "<style scoped>\n",
       "    .dataframe tbody tr th:only-of-type {\n",
       "        vertical-align: middle;\n",
       "    }\n",
       "\n",
       "    .dataframe tbody tr th {\n",
       "        vertical-align: top;\n",
       "    }\n",
       "\n",
       "    .dataframe thead th {\n",
       "        text-align: right;\n",
       "    }\n",
       "</style>\n",
       "<table border=\"1\" class=\"dataframe\">\n",
       "  <thead>\n",
       "    <tr style=\"text-align: right;\">\n",
       "      <th></th>\n",
       "      <th>Node w/Max Centrality</th>\n",
       "      <th>Max Centrality Value</th>\n",
       "      <th>Avg Centrality Value</th>\n",
       "    </tr>\n",
       "  </thead>\n",
       "  <tbody>\n",
       "    <tr>\n",
       "      <th>0</th>\n",
       "      <td>43003845</td>\n",
       "      <td>0.908537</td>\n",
       "      <td>0.600372</td>\n",
       "    </tr>\n",
       "  </tbody>\n",
       "</table>\n",
       "</div>"
      ],
      "text/plain": [
       "   Node w/Max Centrality  Max Centrality Value  Avg Centrality Value\n",
       "0               43003845              0.908537              0.600372"
      ]
     },
     "execution_count": 17,
     "metadata": {},
     "output_type": "execute_result"
    }
   ],
   "source": [
    "ccs = pd.DataFrame([[max_cc, cc[max_cc], avg_cc]], \n",
    "                     columns=['Node w/Max Centrality', 'Max Centrality Value', 'Avg Centrality Value'])\n",
    "ccs"
   ]
  },
  {
   "cell_type": "markdown",
   "metadata": {},
   "source": [
    "### Clustering coefficient"
   ]
  },
  {
   "cell_type": "code",
   "execution_count": 18,
   "metadata": {},
   "outputs": [
    {
     "data": {
      "text/plain": [
       "0.6472680381789766"
      ]
     },
     "execution_count": 18,
     "metadata": {},
     "output_type": "execute_result"
    }
   ],
   "source": [
    "ccf = sub_tt.GetClustCf(-1)\n",
    "ccf"
   ]
  },
  {
   "cell_type": "markdown",
   "metadata": {},
   "source": [
    "### Bridges"
   ]
  },
  {
   "cell_type": "code",
   "execution_count": 19,
   "metadata": {},
   "outputs": [],
   "source": [
    "# cannot find bridges for a directed graph"
   ]
  },
  {
   "cell_type": "markdown",
   "metadata": {},
   "source": [
    "### Bowtie Structure"
   ]
  },
  {
   "cell_type": "code",
   "execution_count": 2,
   "metadata": {},
   "outputs": [],
   "source": [
    "def in_out(count, file):\n",
    "    \n",
    "    # get nodes for subgraph\n",
    "    nodes = []\n",
    "    counter = 0\n",
    "\n",
    "    with open(file, encoding=\"utf8\") as infile:\n",
    "        for line in infile:\n",
    "            if counter == count: \n",
    "                break\n",
    "\n",
    "            node = int(line.split()[0])\n",
    "            if node not in nodes:\n",
    "                nodes.append(node)\n",
    "                counter = counter + 1\n",
    "                \n",
    "    graph = snap.LoadEdgeList(snap.TNGraph, file, 0, 1)\n",
    "    \n",
    "    subgraph = graph.GetSubGraph(nodes)\n",
    "    \n",
    "    #print(subgraph.GetNodes())\n",
    "    \n",
    "    # find scc\n",
    "    \n",
    "    scc = subgraph.GetMxScc()\n",
    "    \n",
    "    #print(scc.GetNodes())\n",
    "    \n",
    "    # find nodes not in scc\n",
    "    \n",
    "    temp = subgraph\n",
    "    \n",
    "    for NI in scc.Nodes():\n",
    "        temp.DelNode(NI.GetId())\n",
    "        \n",
    "    #print(temp.GetNodes())\n",
    "    \n",
    "    # find nodes in in and out component\n",
    "    #print('in and out component')\n",
    "    \n",
    "    IC = []\n",
    "    OC = []\n",
    "    \n",
    "    subgraph = graph.GetSubGraph(nodes)\n",
    "\n",
    "    for n in temp.Nodes():\n",
    "        for m in scc.Nodes():\n",
    "            if subgraph.IsEdge(n.GetId(), m.GetId()):\n",
    "                IC.append(n.GetId())\n",
    "                #print('in', n.GetId())\n",
    "                temp.DelNode(n.GetId())\n",
    "                break\n",
    "            if subgraph.IsEdge(m.GetId(), n.GetId()):\n",
    "                OC.append(n.GetId())\n",
    "                #print('out', n.GetId())\n",
    "                temp.DelNode(n.GetId())\n",
    "                break\n",
    "                \n",
    "    tubes = []\n",
    "    tendrils = []\n",
    "    disc = []\n",
    "    \n",
    "    # find tubes\n",
    "    \n",
    "    for n in IC:\n",
    "        for m in OC:\n",
    "            if subgraph.IsEdge(n, m):\n",
    "                if n not in tubes:\n",
    "                    tubes.append(n)\n",
    "                if m not in tubes:\n",
    "                    tubes.append(m)\n",
    "    \n",
    "    # find tendrils\n",
    "    \n",
    "    tempnodes = []\n",
    "    copy = []\n",
    "    for n in temp.Nodes():\n",
    "        tempnodes.append(n.GetId())\n",
    "        copy.append(n.GetId())\n",
    "    \n",
    "    for n in tempnodes:\n",
    "        for m in IC:\n",
    "            if subgraph.IsEdge(m, n):\n",
    "                if n not in tendrils:\n",
    "                    tendrils.append(n)\n",
    "                    copy.remove(n)\n",
    "    \n",
    "    for n in tempnodes: \n",
    "        for m in OC:\n",
    "            if subgraph.IsEdge(n, m):\n",
    "                if n not in tendrils:\n",
    "                    tendrils.append(n)\n",
    "                    copy.remove(n)\n",
    "    \n",
    "    # find disconnected nodes\n",
    "    disc = copy\n",
    "    \n",
    "    return [count, float(len(IC))/count, float(len(OC))/count, scc.GetNodes()/count, float(len(tubes))/count, float(len(tendrils))/count, float(len(disc))/count]"
   ]
  },
  {
   "cell_type": "code",
   "execution_count": 3,
   "metadata": {},
   "outputs": [
    {
     "data": {
      "text/plain": [
       "[1000, 0.032, 0.007, 0.944, 0.007, 0.003, 0.014]"
      ]
     },
     "execution_count": 3,
     "metadata": {},
     "output_type": "execute_result"
    }
   ],
   "source": [
    "data1000 = in_out(1000, 'twitter_combined.txt')\n",
    "data1000"
   ]
  },
  {
   "cell_type": "code",
   "execution_count": 4,
   "metadata": {},
   "outputs": [
    {
     "data": {
      "text/plain": [
       "[2000, 0.0305, 0.009, 0.943, 0.0035, 0.0085, 0.009]"
      ]
     },
     "execution_count": 4,
     "metadata": {},
     "output_type": "execute_result"
    }
   ],
   "source": [
    "data2000 = in_out(2000, 'twitter_combined.txt')\n",
    "data2000"
   ]
  },
  {
   "cell_type": "code",
   "execution_count": 5,
   "metadata": {},
   "outputs": [
    {
     "data": {
      "text/plain": [
       "[4000, 0.0485, 0.01025, 0.92025, 0.0055, 0.01375, 0.00725]"
      ]
     },
     "execution_count": 5,
     "metadata": {},
     "output_type": "execute_result"
    }
   ],
   "source": [
    "data4000 = in_out(4000, 'twitter_combined.txt')\n",
    "data4000"
   ]
  },
  {
   "cell_type": "code",
   "execution_count": 6,
   "metadata": {},
   "outputs": [
    {
     "data": {
      "text/plain": [
       "[8000, 0.0555, 0.009875, 0.906375, 0.00475, 0.011125, 0.017125]"
      ]
     },
     "execution_count": 6,
     "metadata": {},
     "output_type": "execute_result"
    }
   ],
   "source": [
    "data8000 = in_out(8000, 'twitter_combined.txt')\n",
    "data8000"
   ]
  },
  {
   "cell_type": "code",
   "execution_count": 7,
   "metadata": {},
   "outputs": [
    {
     "data": {
      "text/plain": [
       "[16000, 0.0485625, 0.01025, 0.9070625, 0.0045625, 0.0158125, 0.0183125]"
      ]
     },
     "execution_count": 7,
     "metadata": {},
     "output_type": "execute_result"
    }
   ],
   "source": [
    "data16000 = in_out(16000, 'twitter_combined.txt')\n",
    "data16000"
   ]
  },
  {
   "cell_type": "code",
   "execution_count": 8,
   "metadata": {},
   "outputs": [
    {
     "data": {
      "text/html": [
       "<div>\n",
       "<style scoped>\n",
       "    .dataframe tbody tr th:only-of-type {\n",
       "        vertical-align: middle;\n",
       "    }\n",
       "\n",
       "    .dataframe tbody tr th {\n",
       "        vertical-align: top;\n",
       "    }\n",
       "\n",
       "    .dataframe thead th {\n",
       "        text-align: right;\n",
       "    }\n",
       "</style>\n",
       "<table border=\"1\" class=\"dataframe\">\n",
       "  <thead>\n",
       "    <tr style=\"text-align: right;\">\n",
       "      <th></th>\n",
       "      <th>Count Nodes</th>\n",
       "      <th>In Component</th>\n",
       "      <th>Out Component</th>\n",
       "      <th>SCC</th>\n",
       "      <th>Tubes</th>\n",
       "      <th>Tendrils</th>\n",
       "      <th>Disconnected</th>\n",
       "    </tr>\n",
       "  </thead>\n",
       "  <tbody>\n",
       "    <tr>\n",
       "      <th>0</th>\n",
       "      <td>1000</td>\n",
       "      <td>0.032000</td>\n",
       "      <td>0.007000</td>\n",
       "      <td>0.944000</td>\n",
       "      <td>0.007000</td>\n",
       "      <td>0.003000</td>\n",
       "      <td>0.014000</td>\n",
       "    </tr>\n",
       "    <tr>\n",
       "      <th>1</th>\n",
       "      <td>2000</td>\n",
       "      <td>0.030500</td>\n",
       "      <td>0.009000</td>\n",
       "      <td>0.943000</td>\n",
       "      <td>0.003500</td>\n",
       "      <td>0.008500</td>\n",
       "      <td>0.009000</td>\n",
       "    </tr>\n",
       "    <tr>\n",
       "      <th>2</th>\n",
       "      <td>4000</td>\n",
       "      <td>0.048500</td>\n",
       "      <td>0.010250</td>\n",
       "      <td>0.920250</td>\n",
       "      <td>0.005500</td>\n",
       "      <td>0.013750</td>\n",
       "      <td>0.007250</td>\n",
       "    </tr>\n",
       "    <tr>\n",
       "      <th>3</th>\n",
       "      <td>8000</td>\n",
       "      <td>0.055500</td>\n",
       "      <td>0.009875</td>\n",
       "      <td>0.906375</td>\n",
       "      <td>0.004750</td>\n",
       "      <td>0.011125</td>\n",
       "      <td>0.017125</td>\n",
       "    </tr>\n",
       "    <tr>\n",
       "      <th>4</th>\n",
       "      <td>16000</td>\n",
       "      <td>0.048563</td>\n",
       "      <td>0.010250</td>\n",
       "      <td>0.907062</td>\n",
       "      <td>0.004562</td>\n",
       "      <td>0.015813</td>\n",
       "      <td>0.018312</td>\n",
       "    </tr>\n",
       "  </tbody>\n",
       "</table>\n",
       "</div>"
      ],
      "text/plain": [
       "   Count Nodes  In Component  Out Component       SCC     Tubes  Tendrils  \\\n",
       "0         1000      0.032000       0.007000  0.944000  0.007000  0.003000   \n",
       "1         2000      0.030500       0.009000  0.943000  0.003500  0.008500   \n",
       "2         4000      0.048500       0.010250  0.920250  0.005500  0.013750   \n",
       "3         8000      0.055500       0.009875  0.906375  0.004750  0.011125   \n",
       "4        16000      0.048563       0.010250  0.907062  0.004562  0.015813   \n",
       "\n",
       "   Disconnected  \n",
       "0      0.014000  \n",
       "1      0.009000  \n",
       "2      0.007250  \n",
       "3      0.017125  \n",
       "4      0.018312  "
      ]
     },
     "execution_count": 8,
     "metadata": {},
     "output_type": "execute_result"
    }
   ],
   "source": [
    "df = pd.DataFrame([data1000, data2000, data4000, data8000, data16000], columns = ['Count Nodes', 'In Component', 'Out Component', 'SCC', 'Tubes', 'Tendrils', 'Disconnected'])\n",
    "df"
   ]
  },
  {
   "cell_type": "code",
   "execution_count": 9,
   "metadata": {},
   "outputs": [
    {
     "data": {
      "image/png": "[encoded data removed]",
      "text/plain": [
       "<Figure size 600x400 with 1 Axes>"
      ]
     },
     "metadata": {
      "needs_background": "light"
     },
     "output_type": "display_data"
    }
   ],
   "source": [
    "figure(figsize=(7.5, 5), dpi=80)\n",
    "plt.plot(df['Count Nodes'], df['In Component'])\n",
    "plt.plot(df['Count Nodes'], df['Out Component'])\n",
    "plt.plot(df['Count Nodes'], df['Tubes'])\n",
    "plt.plot(df['Count Nodes'], df['Tendrils'])\n",
    "plt.plot(df['Count Nodes'], df['Disconnected'])\n",
    "plt.title('Proportion of Nodes in Component vs. No. of Nodes in Subgraph - Twitter')\n",
    "plt.xlabel('Total Nodes in Subgraph')\n",
    "plt.ylabel('Proportion of Nodes in Component')\n",
    "plt.legend(('In Component', 'Out Component', 'Tubes', 'Tendrils', 'Disconnected'), loc='best')\n",
    "plt.show()"
   ]
  },
  {
   "cell_type": "markdown",
   "metadata": {},
   "source": [
    "#### SCC % for different sizes of subgraphs is plotted separately for easier visualization of values."
   ]
  },
  {
   "cell_type": "code",
   "execution_count": 10,
   "metadata": {},
   "outputs": [
    {
     "data": {
      "image/png": "[encoded data removed]",
      "text/plain": [
       "<Figure size 600x400 with 1 Axes>"
      ]
     },
     "metadata": {
      "needs_background": "light"
     },
     "output_type": "display_data"
    }
   ],
   "source": [
    "figure(figsize=(7.5, 5), dpi=80)\n",
    "plt.plot(df['Count Nodes'], df['SCC'])\n",
    "plt.title('Proportion of Nodes in SCC vs. No. of Nodes in Subgraph - Twitter')\n",
    "plt.xlabel('Total Nodes in Subgraph')\n",
    "plt.ylabel('Proportion of Nodes in SCC')\n",
    "plt.show()"
   ]
  },
  {
   "cell_type": "markdown",
   "metadata": {},
   "source": [
    "## Who-trusts-who network from Epinions.net (directed)"
   ]
  },
  {
   "cell_type": "code",
   "execution_count": 159,
   "metadata": {},
   "outputs": [],
   "source": [
    "# get first 150 unique nodes in Epinions graph\n",
    "nodes = []\n",
    "n = 150\n",
    "counter = 0\n",
    "\n",
    "with open('soc-Epinions1.txt', encoding=\"utf8\") as infile:\n",
    "    for line in infile:\n",
    "        if counter == n: \n",
    "            break\n",
    "            \n",
    "        node = int(line.split()[0])\n",
    "        if node not in nodes:\n",
    "            nodes.append(node)\n",
    "            counter = counter + 1"
   ]
  },
  {
   "cell_type": "code",
   "execution_count": 160,
   "metadata": {},
   "outputs": [
    {
     "data": {
      "text/plain": [
       "150"
      ]
     },
     "execution_count": 160,
     "metadata": {},
     "output_type": "execute_result"
    }
   ],
   "source": [
    "count = len(nodes)\n",
    "count"
   ]
  },
  {
   "cell_type": "code",
   "execution_count": 161,
   "metadata": {},
   "outputs": [
    {
     "data": {
      "text/plain": [
       "508837"
      ]
     },
     "execution_count": 161,
     "metadata": {},
     "output_type": "execute_result"
    }
   ],
   "source": [
    "ep = snap.LoadEdgeList(snap.TNGraph, \"soc-Epinions1.txt\", 0, 1)\n",
    "ep.GetEdges()"
   ]
  },
  {
   "cell_type": "code",
   "execution_count": 162,
   "metadata": {},
   "outputs": [
    {
     "data": {
      "text/plain": [
       "4163"
      ]
     },
     "execution_count": 162,
     "metadata": {},
     "output_type": "execute_result"
    }
   ],
   "source": [
    "sub_ep = ep.GetSubGraph(nodes)\n",
    "sub_ep.GetEdges()"
   ]
  },
  {
   "cell_type": "markdown",
   "metadata": {},
   "source": [
    "### Epinions.net network data has been preprocessed. A subgraph of the network with 150 nodes and 4163 edges will be analyzed."
   ]
  },
  {
   "cell_type": "code",
   "execution_count": 163,
   "metadata": {},
   "outputs": [],
   "source": [
    "labels_ep = {}\n",
    "for NI in sub_ep.Nodes():\n",
    "    labels_ep[NI.GetId()] = str(NI.GetId())\n",
    "sub_ep.DrawGViz(snap.gvlNeato, \"output_ep.png\", \" \", labels_ep)"
   ]
  },
  {
   "cell_type": "markdown",
   "metadata": {},
   "source": [
    "![alt text](output_ep.png)"
   ]
  },
  {
   "cell_type": "markdown",
   "metadata": {},
   "source": [
    "### Average distance and diameter"
   ]
  },
  {
   "cell_type": "code",
   "execution_count": 165,
   "metadata": {},
   "outputs": [],
   "source": [
    "result = sub_ep.GetBfsEffDiam(count, nodes, False)\n",
    "avg_dist = result[0]\n",
    "diameter = result[2]"
   ]
  },
  {
   "cell_type": "code",
   "execution_count": 166,
   "metadata": {},
   "outputs": [
    {
     "data": {
      "text/html": [
       "<div>\n",
       "<style scoped>\n",
       "    .dataframe tbody tr th:only-of-type {\n",
       "        vertical-align: middle;\n",
       "    }\n",
       "\n",
       "    .dataframe tbody tr th {\n",
       "        vertical-align: top;\n",
       "    }\n",
       "\n",
       "    .dataframe thead th {\n",
       "        text-align: right;\n",
       "    }\n",
       "</style>\n",
       "<table border=\"1\" class=\"dataframe\">\n",
       "  <thead>\n",
       "    <tr style=\"text-align: right;\">\n",
       "      <th></th>\n",
       "      <th>Avg Distance</th>\n",
       "      <th>Diameter</th>\n",
       "    </tr>\n",
       "  </thead>\n",
       "  <tbody>\n",
       "    <tr>\n",
       "      <th>0</th>\n",
       "      <td>1.869724</td>\n",
       "      <td>3</td>\n",
       "    </tr>\n",
       "  </tbody>\n",
       "</table>\n",
       "</div>"
      ],
      "text/plain": [
       "   Avg Distance  Diameter\n",
       "0      1.869724         3"
      ]
     },
     "execution_count": 166,
     "metadata": {},
     "output_type": "execute_result"
    }
   ],
   "source": [
    "dist = pd.DataFrame([[avg_dist, diameter]], columns=['Avg Distance', 'Diameter'])\n",
    "dist"
   ]
  },
  {
   "cell_type": "markdown",
   "metadata": {},
   "source": [
    "### Degree centrality"
   ]
  },
  {
   "cell_type": "code",
   "execution_count": 168,
   "metadata": {},
   "outputs": [],
   "source": [
    "# cannot calculate degree centrality for a directed graph"
   ]
  },
  {
   "cell_type": "markdown",
   "metadata": {},
   "source": [
    "### Betweenness centrality"
   ]
  },
  {
   "cell_type": "code",
   "execution_count": 169,
   "metadata": {},
   "outputs": [],
   "source": [
    "bc = {}\n",
    "Nodes, Edges = sub_ep.GetBetweennessCentr(1.0)\n",
    "\n",
    "for n in Nodes:\n",
    "    bc[n] = Nodes[n]"
   ]
  },
  {
   "cell_type": "code",
   "execution_count": 170,
   "metadata": {},
   "outputs": [
    {
     "data": {
      "text/plain": [
       "0"
      ]
     },
     "execution_count": 170,
     "metadata": {},
     "output_type": "execute_result"
    }
   ],
   "source": [
    "max_bc = max(bc.items(), key=operator.itemgetter(1))[0]\n",
    "max_bc"
   ]
  },
  {
   "cell_type": "code",
   "execution_count": 171,
   "metadata": {},
   "outputs": [
    {
     "data": {
      "text/plain": [
       "56.81333333333333"
      ]
     },
     "execution_count": 171,
     "metadata": {},
     "output_type": "execute_result"
    }
   ],
   "source": [
    "avg_bc = statistics.mean(bc.values())\n",
    "avg_bc"
   ]
  },
  {
   "cell_type": "code",
   "execution_count": 172,
   "metadata": {},
   "outputs": [
    {
     "data": {
      "text/html": [
       "<div>\n",
       "<style scoped>\n",
       "    .dataframe tbody tr th:only-of-type {\n",
       "        vertical-align: middle;\n",
       "    }\n",
       "\n",
       "    .dataframe tbody tr th {\n",
       "        vertical-align: top;\n",
       "    }\n",
       "\n",
       "    .dataframe thead th {\n",
       "        text-align: right;\n",
       "    }\n",
       "</style>\n",
       "<table border=\"1\" class=\"dataframe\">\n",
       "  <thead>\n",
       "    <tr style=\"text-align: right;\">\n",
       "      <th></th>\n",
       "      <th>Node w/Max Centrality</th>\n",
       "      <th>Max Centrality Value</th>\n",
       "      <th>Avg Centrality Value</th>\n",
       "    </tr>\n",
       "  </thead>\n",
       "  <tbody>\n",
       "    <tr>\n",
       "      <th>0</th>\n",
       "      <td>0</td>\n",
       "      <td>2657.439401</td>\n",
       "      <td>56.813333</td>\n",
       "    </tr>\n",
       "  </tbody>\n",
       "</table>\n",
       "</div>"
      ],
      "text/plain": [
       "   Node w/Max Centrality  Max Centrality Value  Avg Centrality Value\n",
       "0                      0           2657.439401             56.813333"
      ]
     },
     "execution_count": 172,
     "metadata": {},
     "output_type": "execute_result"
    }
   ],
   "source": [
    "bcs = pd.DataFrame([[max_bc, bc[max_bc], avg_bc]], \n",
    "                     columns=['Node w/Max Centrality', 'Max Centrality Value', 'Avg Centrality Value'])\n",
    "bcs"
   ]
  },
  {
   "cell_type": "markdown",
   "metadata": {},
   "source": [
    "### Closeness centrality"
   ]
  },
  {
   "cell_type": "code",
   "execution_count": 173,
   "metadata": {},
   "outputs": [],
   "source": [
    "cc = {}\n",
    "for NI in sub_ep.Nodes():\n",
    "    cc[NI.GetId()] = sub_ep.GetClosenessCentr(NI.GetId())"
   ]
  },
  {
   "cell_type": "code",
   "execution_count": 174,
   "metadata": {},
   "outputs": [
    {
     "data": {
      "text/plain": [
       "0"
      ]
     },
     "execution_count": 174,
     "metadata": {},
     "output_type": "execute_result"
    }
   ],
   "source": [
    "max_cc = max(cc.items(), key=operator.itemgetter(1))[0]\n",
    "max_cc"
   ]
  },
  {
   "cell_type": "code",
   "execution_count": 175,
   "metadata": {},
   "outputs": [
    {
     "data": {
      "text/plain": [
       "0.5728522850449893"
      ]
     },
     "execution_count": 175,
     "metadata": {},
     "output_type": "execute_result"
    }
   ],
   "source": [
    "avg_cc = statistics.mean(cc.values())\n",
    "avg_cc"
   ]
  },
  {
   "cell_type": "code",
   "execution_count": 176,
   "metadata": {},
   "outputs": [
    {
     "data": {
      "text/html": [
       "<div>\n",
       "<style scoped>\n",
       "    .dataframe tbody tr th:only-of-type {\n",
       "        vertical-align: middle;\n",
       "    }\n",
       "\n",
       "    .dataframe tbody tr th {\n",
       "        vertical-align: top;\n",
       "    }\n",
       "\n",
       "    .dataframe thead th {\n",
       "        text-align: right;\n",
       "    }\n",
       "</style>\n",
       "<table border=\"1\" class=\"dataframe\">\n",
       "  <thead>\n",
       "    <tr style=\"text-align: right;\">\n",
       "      <th></th>\n",
       "      <th>Node w/Max Centrality</th>\n",
       "      <th>Max Centrality Value</th>\n",
       "      <th>Avg Centrality Value</th>\n",
       "    </tr>\n",
       "  </thead>\n",
       "  <tbody>\n",
       "    <tr>\n",
       "      <th>0</th>\n",
       "      <td>0</td>\n",
       "      <td>0.986755</td>\n",
       "      <td>0.572852</td>\n",
       "    </tr>\n",
       "  </tbody>\n",
       "</table>\n",
       "</div>"
      ],
      "text/plain": [
       "   Node w/Max Centrality  Max Centrality Value  Avg Centrality Value\n",
       "0                      0              0.986755              0.572852"
      ]
     },
     "execution_count": 176,
     "metadata": {},
     "output_type": "execute_result"
    }
   ],
   "source": [
    "ccs = pd.DataFrame([[max_cc, cc[max_cc], avg_cc]], \n",
    "                     columns=['Node w/Max Centrality', 'Max Centrality Value', 'Avg Centrality Value'])\n",
    "ccs"
   ]
  },
  {
   "cell_type": "markdown",
   "metadata": {},
   "source": [
    "### Clustering coefficient"
   ]
  },
  {
   "cell_type": "code",
   "execution_count": 177,
   "metadata": {},
   "outputs": [
    {
     "data": {
      "text/plain": [
       "0.5364951966600079"
      ]
     },
     "execution_count": 177,
     "metadata": {},
     "output_type": "execute_result"
    }
   ],
   "source": [
    "ccf = sub_ep.GetClustCf(-1)\n",
    "ccf"
   ]
  },
  {
   "cell_type": "markdown",
   "metadata": {},
   "source": [
    "### Bridges"
   ]
  },
  {
   "cell_type": "code",
   "execution_count": 178,
   "metadata": {},
   "outputs": [],
   "source": [
    "# cannot find bridges for a directed graph"
   ]
  },
  {
   "cell_type": "markdown",
   "metadata": {},
   "source": [
    "### Bowtie structure"
   ]
  },
  {
   "cell_type": "code",
   "execution_count": 11,
   "metadata": {},
   "outputs": [
    {
     "data": {
      "text/plain": [
       "[1000, 0.0, 0.005, 0.995, 0.0, 0.0, 0.0]"
      ]
     },
     "execution_count": 11,
     "metadata": {},
     "output_type": "execute_result"
    }
   ],
   "source": [
    "edata1000 = in_out(1000, 'soc-Epinions1.txt')\n",
    "edata1000"
   ]
  },
  {
   "cell_type": "code",
   "execution_count": 12,
   "metadata": {},
   "outputs": [
    {
     "data": {
      "text/plain": [
       "[2000, 0.0, 0.0065, 0.9935, 0.0, 0.0, 0.0]"
      ]
     },
     "execution_count": 12,
     "metadata": {},
     "output_type": "execute_result"
    }
   ],
   "source": [
    "edata2000 = in_out(2000, 'soc-Epinions1.txt')\n",
    "edata2000"
   ]
  },
  {
   "cell_type": "code",
   "execution_count": 13,
   "metadata": {},
   "outputs": [
    {
     "data": {
      "text/plain": [
       "[4000, 0.002, 0.0115, 0.9865, 0.0, 0.0, 0.0]"
      ]
     },
     "execution_count": 13,
     "metadata": {},
     "output_type": "execute_result"
    }
   ],
   "source": [
    "edata4000 = in_out(4000, 'soc-Epinions1.txt')\n",
    "edata4000"
   ]
  },
  {
   "cell_type": "code",
   "execution_count": 14,
   "metadata": {},
   "outputs": [
    {
     "data": {
      "text/plain": [
       "[8000, 0.008125, 0.026875, 0.963375, 0.0, 0.001625, 0.0]"
      ]
     },
     "execution_count": 14,
     "metadata": {},
     "output_type": "execute_result"
    }
   ],
   "source": [
    "edata8000 = in_out(8000, 'soc-Epinions1.txt')\n",
    "edata8000"
   ]
  },
  {
   "cell_type": "code",
   "execution_count": 15,
   "metadata": {},
   "outputs": [
    {
     "data": {
      "text/plain": [
       "[16000, 0.0153125, 0.031125, 0.951875, 0.0006875, 0.0016875, 0.0]"
      ]
     },
     "execution_count": 15,
     "metadata": {},
     "output_type": "execute_result"
    }
   ],
   "source": [
    "edata16000 = in_out(16000, 'soc-Epinions1.txt')\n",
    "edata16000"
   ]
  },
  {
   "cell_type": "code",
   "execution_count": 16,
   "metadata": {},
   "outputs": [
    {
     "data": {
      "text/html": [
       "<div>\n",
       "<style scoped>\n",
       "    .dataframe tbody tr th:only-of-type {\n",
       "        vertical-align: middle;\n",
       "    }\n",
       "\n",
       "    .dataframe tbody tr th {\n",
       "        vertical-align: top;\n",
       "    }\n",
       "\n",
       "    .dataframe thead th {\n",
       "        text-align: right;\n",
       "    }\n",
       "</style>\n",
       "<table border=\"1\" class=\"dataframe\">\n",
       "  <thead>\n",
       "    <tr style=\"text-align: right;\">\n",
       "      <th></th>\n",
       "      <th>Count Nodes</th>\n",
       "      <th>In Component</th>\n",
       "      <th>Out Component</th>\n",
       "      <th>SCC</th>\n",
       "      <th>Tubes</th>\n",
       "      <th>Tendrils</th>\n",
       "      <th>Disconnected</th>\n",
       "    </tr>\n",
       "  </thead>\n",
       "  <tbody>\n",
       "    <tr>\n",
       "      <th>0</th>\n",
       "      <td>1000</td>\n",
       "      <td>0.000000</td>\n",
       "      <td>0.005000</td>\n",
       "      <td>0.995000</td>\n",
       "      <td>0.000000</td>\n",
       "      <td>0.000000</td>\n",
       "      <td>0.0</td>\n",
       "    </tr>\n",
       "    <tr>\n",
       "      <th>1</th>\n",
       "      <td>2000</td>\n",
       "      <td>0.000000</td>\n",
       "      <td>0.006500</td>\n",
       "      <td>0.993500</td>\n",
       "      <td>0.000000</td>\n",
       "      <td>0.000000</td>\n",
       "      <td>0.0</td>\n",
       "    </tr>\n",
       "    <tr>\n",
       "      <th>2</th>\n",
       "      <td>4000</td>\n",
       "      <td>0.002000</td>\n",
       "      <td>0.011500</td>\n",
       "      <td>0.986500</td>\n",
       "      <td>0.000000</td>\n",
       "      <td>0.000000</td>\n",
       "      <td>0.0</td>\n",
       "    </tr>\n",
       "    <tr>\n",
       "      <th>3</th>\n",
       "      <td>8000</td>\n",
       "      <td>0.008125</td>\n",
       "      <td>0.026875</td>\n",
       "      <td>0.963375</td>\n",
       "      <td>0.000000</td>\n",
       "      <td>0.001625</td>\n",
       "      <td>0.0</td>\n",
       "    </tr>\n",
       "    <tr>\n",
       "      <th>4</th>\n",
       "      <td>16000</td>\n",
       "      <td>0.015312</td>\n",
       "      <td>0.031125</td>\n",
       "      <td>0.951875</td>\n",
       "      <td>0.000687</td>\n",
       "      <td>0.001687</td>\n",
       "      <td>0.0</td>\n",
       "    </tr>\n",
       "  </tbody>\n",
       "</table>\n",
       "</div>"
      ],
      "text/plain": [
       "   Count Nodes  In Component  Out Component       SCC     Tubes  Tendrils  \\\n",
       "0         1000      0.000000       0.005000  0.995000  0.000000  0.000000   \n",
       "1         2000      0.000000       0.006500  0.993500  0.000000  0.000000   \n",
       "2         4000      0.002000       0.011500  0.986500  0.000000  0.000000   \n",
       "3         8000      0.008125       0.026875  0.963375  0.000000  0.001625   \n",
       "4        16000      0.015312       0.031125  0.951875  0.000687  0.001687   \n",
       "\n",
       "   Disconnected  \n",
       "0           0.0  \n",
       "1           0.0  \n",
       "2           0.0  \n",
       "3           0.0  \n",
       "4           0.0  "
      ]
     },
     "execution_count": 16,
     "metadata": {},
     "output_type": "execute_result"
    }
   ],
   "source": [
    "edf = pd.DataFrame([edata1000, edata2000, edata4000, edata8000, edata16000], columns = ['Count Nodes', 'In Component', 'Out Component', 'SCC', 'Tubes', 'Tendrils', 'Disconnected'])\n",
    "edf"
   ]
  },
  {
   "cell_type": "markdown",
   "metadata": {},
   "source": [
    "#### Only In Component, Out Component, and SCC are plotted because the percent of Tubes, Tendrils, and Disconnected Components are zero or negligible."
   ]
  },
  {
   "cell_type": "code",
   "execution_count": 20,
   "metadata": {},
   "outputs": [
    {
     "data": {
      "image/png": "[encoded data removed]",
      "text/plain": [
       "<Figure size 600x400 with 1 Axes>"
      ]
     },
     "metadata": {
      "needs_background": "light"
     },
     "output_type": "display_data"
    }
   ],
   "source": [
    "figure(figsize=(7.5, 5), dpi=80)\n",
    "plt.plot(edf['Count Nodes'], edf['In Component'])\n",
    "plt.plot(edf['Count Nodes'], edf['Out Component'])\n",
    "plt.title('Proportion of Nodes in Component vs. No. of Nodes in Subgraph - Epinions')\n",
    "plt.xlabel('Total Nodes in Subgraph')\n",
    "plt.ylabel('Proportion of Nodes in Component')\n",
    "plt.legend(('In Component', 'Out Component'), loc='best')\n",
    "plt.show()"
   ]
  },
  {
   "cell_type": "markdown",
   "metadata": {},
   "source": [
    "#### SCC % for different sizes of subgraphs is plotted separately for easier visualization of values."
   ]
  },
  {
   "cell_type": "code",
   "execution_count": 19,
   "metadata": {},
   "outputs": [
    {
     "data": {
      "image/png": "[encoded data removed]",
      "text/plain": [
       "<Figure size 600x400 with 1 Axes>"
      ]
     },
     "metadata": {
      "needs_background": "light"
     },
     "output_type": "display_data"
    }
   ],
   "source": [
    "figure(figsize=(7.5, 5), dpi=80)\n",
    "plt.plot(edf['Count Nodes'], edf['SCC'])\n",
    "plt.title('Proportion of Nodes in SCC vs. No. of Nodes in Subgraph - Epinions')\n",
    "plt.xlabel('Total Nodes in Subgraph')\n",
    "plt.ylabel('Proportion of Nodes in SCC')\n",
    "plt.show()"
   ]
  },
  {
   "cell_type": "code",
   "execution_count": null,
   "metadata": {},
   "outputs": [],
   "source": []
  }
 ],
 "metadata": {
  "kernelspec": {
   "display_name": "Python 3",
   "language": "python",
   "name": "python3"
  },
  "language_info": {
   "codemirror_mode": {
    "name": "ipython",
    "version": 3
   },
   "file_extension": ".py",
   "mimetype": "text/x-python",
   "name": "python",
   "nbconvert_exporter": "python",
   "pygments_lexer": "ipython3",
   "version": "3.7.6"
  }
 },
 "nbformat": 4,
 "nbformat_minor": 4
}
